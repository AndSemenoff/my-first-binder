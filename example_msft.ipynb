{
 "cells": [
  {
   "cell_type": "markdown",
   "id": "ceeb958b",
   "metadata": {},
   "source": [
    "#### Пример использования библиотеки yfinance, для построения графиков последней цены опционов Put и Call по акциям Microsoft"
   ]
  },
  {
   "cell_type": "markdown",
   "id": "1b1fef71",
   "metadata": {},
   "source": [
    "Импортируем основную библиотеку yfinance, а для построения графиков импортируем matplotlib"
   ]
  },
  {
   "cell_type": "code",
   "execution_count": 22,
   "id": "775237ef",
   "metadata": {},
   "outputs": [],
   "source": [
    "# Import yfinance package\n",
    "import yfinance as yf\n",
    "\n",
    "# Для построения графиков\n",
    "import matplotlib.pyplot as plt\n",
    "import matplotlib\n",
    "%matplotlib inline"
   ]
  },
  {
   "cell_type": "markdown",
   "id": "a5b87d4c",
   "metadata": {},
   "source": [
    "Выбираем стиль для графиков"
   ]
  },
  {
   "cell_type": "code",
   "execution_count": 23,
   "id": "7b4695c1",
   "metadata": {},
   "outputs": [],
   "source": [
    "plt.style.use('seaborn-darkgrid')"
   ]
  },
  {
   "cell_type": "markdown",
   "id": "bba99401",
   "metadata": {},
   "source": [
    "Создаем переменную для размера шрифта"
   ]
  },
  {
   "cell_type": "code",
   "execution_count": 24,
   "id": "6d58cdbc",
   "metadata": {},
   "outputs": [],
   "source": [
    "FONT_SIZE = 16"
   ]
  },
  {
   "cell_type": "markdown",
   "id": "1aa4d1c7",
   "metadata": {},
   "source": [
    "Создаем переменную тикер для акций Microsoft"
   ]
  },
  {
   "cell_type": "code",
   "execution_count": 25,
   "id": "46dd1f9b",
   "metadata": {},
   "outputs": [],
   "source": [
    "msft = yf.Ticker('MSFT')"
   ]
  },
  {
   "cell_type": "markdown",
   "id": "289b4397",
   "metadata": {},
   "source": [
    "Выводим все даты экспирации для опционов Microsoft"
   ]
  },
  {
   "cell_type": "code",
   "execution_count": 31,
   "id": "cb744d30",
   "metadata": {},
   "outputs": [
    {
     "data": {
      "text/plain": [
       "('2022-02-18',\n",
       " '2022-02-25',\n",
       " '2022-03-04',\n",
       " '2022-03-11',\n",
       " '2022-03-18',\n",
       " '2022-03-25',\n",
       " '2022-04-01',\n",
       " '2022-04-14',\n",
       " '2022-05-20',\n",
       " '2022-06-17',\n",
       " '2022-07-15',\n",
       " '2022-08-19',\n",
       " '2022-09-16',\n",
       " '2023-01-20',\n",
       " '2023-03-17',\n",
       " '2023-06-16',\n",
       " '2024-01-19')"
      ]
     },
     "execution_count": 31,
     "metadata": {},
     "output_type": "execute_result"
    }
   ],
   "source": [
    "msft.options"
   ]
  },
  {
   "cell_type": "markdown",
   "id": "51fb5662",
   "metadata": {},
   "source": [
    "Будем работать с таблицей опционов с ближайщей датой экспирации"
   ]
  },
  {
   "cell_type": "code",
   "execution_count": 32,
   "id": "bb801510",
   "metadata": {},
   "outputs": [],
   "source": [
    "option_chain = msft.option_chain(date=msft.options[0])"
   ]
  },
  {
   "cell_type": "markdown",
   "id": "7d4e6c5e",
   "metadata": {},
   "source": [
    "Распечатаем начало таблицы с Колами"
   ]
  },
  {
   "cell_type": "code",
   "execution_count": 33,
   "id": "840ce6fa",
   "metadata": {},
   "outputs": [
    {
     "data": {
      "text/html": [
       "<div>\n",
       "<style scoped>\n",
       "    .dataframe tbody tr th:only-of-type {\n",
       "        vertical-align: middle;\n",
       "    }\n",
       "\n",
       "    .dataframe tbody tr th {\n",
       "        vertical-align: top;\n",
       "    }\n",
       "\n",
       "    .dataframe thead th {\n",
       "        text-align: right;\n",
       "    }\n",
       "</style>\n",
       "<table border=\"1\" class=\"dataframe\">\n",
       "  <thead>\n",
       "    <tr style=\"text-align: right;\">\n",
       "      <th></th>\n",
       "      <th>contractSymbol</th>\n",
       "      <th>lastTradeDate</th>\n",
       "      <th>strike</th>\n",
       "      <th>lastPrice</th>\n",
       "      <th>bid</th>\n",
       "      <th>ask</th>\n",
       "      <th>change</th>\n",
       "      <th>percentChange</th>\n",
       "      <th>volume</th>\n",
       "      <th>openInterest</th>\n",
       "      <th>impliedVolatility</th>\n",
       "      <th>inTheMoney</th>\n",
       "      <th>contractSize</th>\n",
       "      <th>currency</th>\n",
       "    </tr>\n",
       "  </thead>\n",
       "  <tbody>\n",
       "    <tr>\n",
       "      <th>0</th>\n",
       "      <td>MSFT220218C00145000</td>\n",
       "      <td>2021-12-16 15:54:47+00:00</td>\n",
       "      <td>145.0</td>\n",
       "      <td>187.00</td>\n",
       "      <td>163.1</td>\n",
       "      <td>167.5</td>\n",
       "      <td>0.0</td>\n",
       "      <td>0.0</td>\n",
       "      <td>4.0</td>\n",
       "      <td>9</td>\n",
       "      <td>6.68091</td>\n",
       "      <td>True</td>\n",
       "      <td>REGULAR</td>\n",
       "      <td>USD</td>\n",
       "    </tr>\n",
       "    <tr>\n",
       "      <th>1</th>\n",
       "      <td>MSFT220218C00150000</td>\n",
       "      <td>2022-01-31 15:23:10+00:00</td>\n",
       "      <td>150.0</td>\n",
       "      <td>161.95</td>\n",
       "      <td>0.0</td>\n",
       "      <td>0.0</td>\n",
       "      <td>0.0</td>\n",
       "      <td>0.0</td>\n",
       "      <td>1.0</td>\n",
       "      <td>3</td>\n",
       "      <td>0.00001</td>\n",
       "      <td>True</td>\n",
       "      <td>REGULAR</td>\n",
       "      <td>USD</td>\n",
       "    </tr>\n",
       "    <tr>\n",
       "      <th>2</th>\n",
       "      <td>MSFT220218C00155000</td>\n",
       "      <td>2022-01-25 20:34:53+00:00</td>\n",
       "      <td>155.0</td>\n",
       "      <td>136.60</td>\n",
       "      <td>0.0</td>\n",
       "      <td>0.0</td>\n",
       "      <td>0.0</td>\n",
       "      <td>0.0</td>\n",
       "      <td>2.0</td>\n",
       "      <td>7</td>\n",
       "      <td>0.00001</td>\n",
       "      <td>True</td>\n",
       "      <td>REGULAR</td>\n",
       "      <td>USD</td>\n",
       "    </tr>\n",
       "    <tr>\n",
       "      <th>3</th>\n",
       "      <td>MSFT220218C00160000</td>\n",
       "      <td>2022-02-07 19:45:12+00:00</td>\n",
       "      <td>160.0</td>\n",
       "      <td>143.94</td>\n",
       "      <td>0.0</td>\n",
       "      <td>0.0</td>\n",
       "      <td>0.0</td>\n",
       "      <td>0.0</td>\n",
       "      <td>2.0</td>\n",
       "      <td>28</td>\n",
       "      <td>0.00001</td>\n",
       "      <td>True</td>\n",
       "      <td>REGULAR</td>\n",
       "      <td>USD</td>\n",
       "    </tr>\n",
       "    <tr>\n",
       "      <th>4</th>\n",
       "      <td>MSFT220218C00165000</td>\n",
       "      <td>2022-01-28 19:55:09+00:00</td>\n",
       "      <td>165.0</td>\n",
       "      <td>136.88</td>\n",
       "      <td>0.0</td>\n",
       "      <td>0.0</td>\n",
       "      <td>0.0</td>\n",
       "      <td>0.0</td>\n",
       "      <td>8.0</td>\n",
       "      <td>10</td>\n",
       "      <td>0.00001</td>\n",
       "      <td>True</td>\n",
       "      <td>REGULAR</td>\n",
       "      <td>USD</td>\n",
       "    </tr>\n",
       "  </tbody>\n",
       "</table>\n",
       "</div>"
      ],
      "text/plain": [
       "        contractSymbol             lastTradeDate  strike  lastPrice    bid  \\\n",
       "0  MSFT220218C00145000 2021-12-16 15:54:47+00:00   145.0     187.00  163.1   \n",
       "1  MSFT220218C00150000 2022-01-31 15:23:10+00:00   150.0     161.95    0.0   \n",
       "2  MSFT220218C00155000 2022-01-25 20:34:53+00:00   155.0     136.60    0.0   \n",
       "3  MSFT220218C00160000 2022-02-07 19:45:12+00:00   160.0     143.94    0.0   \n",
       "4  MSFT220218C00165000 2022-01-28 19:55:09+00:00   165.0     136.88    0.0   \n",
       "\n",
       "     ask  change  percentChange  volume  openInterest  impliedVolatility  \\\n",
       "0  167.5     0.0            0.0     4.0             9            6.68091   \n",
       "1    0.0     0.0            0.0     1.0             3            0.00001   \n",
       "2    0.0     0.0            0.0     2.0             7            0.00001   \n",
       "3    0.0     0.0            0.0     2.0            28            0.00001   \n",
       "4    0.0     0.0            0.0     8.0            10            0.00001   \n",
       "\n",
       "   inTheMoney contractSize currency  \n",
       "0        True      REGULAR      USD  \n",
       "1        True      REGULAR      USD  \n",
       "2        True      REGULAR      USD  \n",
       "3        True      REGULAR      USD  \n",
       "4        True      REGULAR      USD  "
      ]
     },
     "execution_count": 33,
     "metadata": {},
     "output_type": "execute_result"
    }
   ],
   "source": [
    "option_chain.calls.head()"
   ]
  },
  {
   "cell_type": "markdown",
   "id": "7ab49d01",
   "metadata": {},
   "source": [
    "Распечатаем начало таблицы с Путами"
   ]
  },
  {
   "cell_type": "code",
   "execution_count": 34,
   "id": "bf45b963",
   "metadata": {},
   "outputs": [
    {
     "data": {
      "text/html": [
       "<div>\n",
       "<style scoped>\n",
       "    .dataframe tbody tr th:only-of-type {\n",
       "        vertical-align: middle;\n",
       "    }\n",
       "\n",
       "    .dataframe tbody tr th {\n",
       "        vertical-align: top;\n",
       "    }\n",
       "\n",
       "    .dataframe thead th {\n",
       "        text-align: right;\n",
       "    }\n",
       "</style>\n",
       "<table border=\"1\" class=\"dataframe\">\n",
       "  <thead>\n",
       "    <tr style=\"text-align: right;\">\n",
       "      <th></th>\n",
       "      <th>contractSymbol</th>\n",
       "      <th>lastTradeDate</th>\n",
       "      <th>strike</th>\n",
       "      <th>lastPrice</th>\n",
       "      <th>bid</th>\n",
       "      <th>ask</th>\n",
       "      <th>change</th>\n",
       "      <th>percentChange</th>\n",
       "      <th>volume</th>\n",
       "      <th>openInterest</th>\n",
       "      <th>impliedVolatility</th>\n",
       "      <th>inTheMoney</th>\n",
       "      <th>contractSize</th>\n",
       "      <th>currency</th>\n",
       "    </tr>\n",
       "  </thead>\n",
       "  <tbody>\n",
       "    <tr>\n",
       "      <th>0</th>\n",
       "      <td>MSFT220218P00145000</td>\n",
       "      <td>2022-02-09 17:50:14+00:00</td>\n",
       "      <td>145.0</td>\n",
       "      <td>0.01</td>\n",
       "      <td>0.0</td>\n",
       "      <td>0.0</td>\n",
       "      <td>0.0</td>\n",
       "      <td>0.0</td>\n",
       "      <td>1.0</td>\n",
       "      <td>474</td>\n",
       "      <td>0.500005</td>\n",
       "      <td>False</td>\n",
       "      <td>REGULAR</td>\n",
       "      <td>USD</td>\n",
       "    </tr>\n",
       "    <tr>\n",
       "      <th>1</th>\n",
       "      <td>MSFT220218P00150000</td>\n",
       "      <td>2022-01-31 15:53:47+00:00</td>\n",
       "      <td>150.0</td>\n",
       "      <td>0.01</td>\n",
       "      <td>0.0</td>\n",
       "      <td>0.0</td>\n",
       "      <td>0.0</td>\n",
       "      <td>0.0</td>\n",
       "      <td>100.0</td>\n",
       "      <td>860</td>\n",
       "      <td>0.500005</td>\n",
       "      <td>False</td>\n",
       "      <td>REGULAR</td>\n",
       "      <td>USD</td>\n",
       "    </tr>\n",
       "    <tr>\n",
       "      <th>2</th>\n",
       "      <td>MSFT220218P00155000</td>\n",
       "      <td>2022-02-11 19:09:53+00:00</td>\n",
       "      <td>155.0</td>\n",
       "      <td>0.01</td>\n",
       "      <td>0.0</td>\n",
       "      <td>0.0</td>\n",
       "      <td>0.0</td>\n",
       "      <td>0.0</td>\n",
       "      <td>8.0</td>\n",
       "      <td>361</td>\n",
       "      <td>0.500005</td>\n",
       "      <td>False</td>\n",
       "      <td>REGULAR</td>\n",
       "      <td>USD</td>\n",
       "    </tr>\n",
       "    <tr>\n",
       "      <th>3</th>\n",
       "      <td>MSFT220218P00160000</td>\n",
       "      <td>2022-01-31 19:31:58+00:00</td>\n",
       "      <td>160.0</td>\n",
       "      <td>0.01</td>\n",
       "      <td>0.0</td>\n",
       "      <td>0.0</td>\n",
       "      <td>0.0</td>\n",
       "      <td>0.0</td>\n",
       "      <td>5.0</td>\n",
       "      <td>465</td>\n",
       "      <td>0.500005</td>\n",
       "      <td>False</td>\n",
       "      <td>REGULAR</td>\n",
       "      <td>USD</td>\n",
       "    </tr>\n",
       "    <tr>\n",
       "      <th>4</th>\n",
       "      <td>MSFT220218P00165000</td>\n",
       "      <td>2022-02-11 19:12:09+00:00</td>\n",
       "      <td>165.0</td>\n",
       "      <td>0.01</td>\n",
       "      <td>0.0</td>\n",
       "      <td>0.0</td>\n",
       "      <td>0.0</td>\n",
       "      <td>0.0</td>\n",
       "      <td>132.0</td>\n",
       "      <td>578</td>\n",
       "      <td>0.500005</td>\n",
       "      <td>False</td>\n",
       "      <td>REGULAR</td>\n",
       "      <td>USD</td>\n",
       "    </tr>\n",
       "  </tbody>\n",
       "</table>\n",
       "</div>"
      ],
      "text/plain": [
       "        contractSymbol             lastTradeDate  strike  lastPrice  bid  ask  \\\n",
       "0  MSFT220218P00145000 2022-02-09 17:50:14+00:00   145.0       0.01  0.0  0.0   \n",
       "1  MSFT220218P00150000 2022-01-31 15:53:47+00:00   150.0       0.01  0.0  0.0   \n",
       "2  MSFT220218P00155000 2022-02-11 19:09:53+00:00   155.0       0.01  0.0  0.0   \n",
       "3  MSFT220218P00160000 2022-01-31 19:31:58+00:00   160.0       0.01  0.0  0.0   \n",
       "4  MSFT220218P00165000 2022-02-11 19:12:09+00:00   165.0       0.01  0.0  0.0   \n",
       "\n",
       "   change  percentChange  volume  openInterest  impliedVolatility  inTheMoney  \\\n",
       "0     0.0            0.0     1.0           474           0.500005       False   \n",
       "1     0.0            0.0   100.0           860           0.500005       False   \n",
       "2     0.0            0.0     8.0           361           0.500005       False   \n",
       "3     0.0            0.0     5.0           465           0.500005       False   \n",
       "4     0.0            0.0   132.0           578           0.500005       False   \n",
       "\n",
       "  contractSize currency  \n",
       "0      REGULAR      USD  \n",
       "1      REGULAR      USD  \n",
       "2      REGULAR      USD  \n",
       "3      REGULAR      USD  \n",
       "4      REGULAR      USD  "
      ]
     },
     "execution_count": 34,
     "metadata": {},
     "output_type": "execute_result"
    }
   ],
   "source": [
    "option_chain.puts.head()"
   ]
  },
  {
   "cell_type": "code",
   "execution_count": 35,
   "id": "3592d83d",
   "metadata": {},
   "outputs": [
    {
     "ename": "SyntaxError",
     "evalue": "invalid syntax (Temp/ipykernel_10480/3176341296.py, line 1)",
     "output_type": "error",
     "traceback": [
      "\u001b[1;36m  File \u001b[1;32m\"C:\\Users\\semen\\AppData\\Local\\Temp/ipykernel_10480/3176341296.py\"\u001b[1;36m, line \u001b[1;32m1\u001b[0m\n\u001b[1;33m    Выбираем наименование шрифта\u001b[0m\n\u001b[1;37m             ^\u001b[0m\n\u001b[1;31mSyntaxError\u001b[0m\u001b[1;31m:\u001b[0m invalid syntax\n"
     ]
    }
   ],
   "source": [
    "Выбираем наименование шрифта"
   ]
  },
  {
   "cell_type": "code",
   "execution_count": 36,
   "id": "f839497a-75ea-4c3d-9380-fff085ffba14",
   "metadata": {},
   "outputs": [],
   "source": [
    "matplotlib.rcParams['font.family'] = 'fantasy'\n",
    "matplotlib.rcParams['font.fantasy'] = 'Tahoma','Calibri', 'Ubuntu','Arial',"
   ]
  },
  {
   "cell_type": "markdown",
   "id": "b8e7e03e",
   "metadata": {},
   "source": [
    "Строим график по последним ценам для опционов Call для разных страйков"
   ]
  },
  {
   "cell_type": "code",
   "execution_count": 37,
   "id": "03b66ba0",
   "metadata": {},
   "outputs": [
    {
     "data": {
      "text/plain": [
       "Text(0.5, 1.0, 'Microsoft последние цены Call опционов для различных страйков')"
      ]
     },
     "execution_count": 37,
     "metadata": {},
     "output_type": "execute_result"
    },
    {
     "data": {
      "image/png": "[encoded data removed]",
      "text/plain": [
       "<Figure size 1080x504 with 1 Axes>"
      ]
     },
     "metadata": {},
     "output_type": "display_data"
    }
   ],
   "source": [
    "plt.figure(figsize=(15, 7))\n",
    "plt.plot(option_chain.calls.strike, option_chain.calls.lastPrice)\n",
    "plt.xlabel('Страйки', fontsize = FONT_SIZE)\n",
    "plt.ylabel('Последняя цена', fontsize= FONT_SIZE)\n",
    "plt.title('Microsoft последние цены Call опционов для различных страйков', fontsize= FONT_SIZE + 2)"
   ]
  },
  {
   "cell_type": "markdown",
   "id": "b9aa3aa8",
   "metadata": {},
   "source": [
    "Строим график по последним ценам для опционов Put для разных страйков"
   ]
  },
  {
   "cell_type": "code",
   "execution_count": 38,
   "id": "edc7f32e",
   "metadata": {},
   "outputs": [
    {
     "data": {
      "text/plain": [
       "Text(0.5, 1.0, 'Microsoft последние цены Put опционов для различных страйков')"
      ]
     },
     "execution_count": 38,
     "metadata": {},
     "output_type": "execute_result"
    },
    {
     "data": {
      "image/png": "[encoded data removed]",
      "text/plain": [
       "<Figure size 1080x504 with 1 Axes>"
      ]
     },
     "metadata": {},
     "output_type": "display_data"
    }
   ],
   "source": [
    "plt.figure(figsize=(15, 7))\n",
    "plt.plot(option_chain.puts.strike, option_chain.puts.lastPrice, color='g')\n",
    "plt.xlabel('Страйки', fontsize=FONT_SIZE)\n",
    "plt.ylabel('Последняя цена', fontsize=FONT_SIZE)\n",
    "plt.title('Microsoft последние цены Put опционов для различных страйков', fontsize=FONT_SIZE + 2)"
   ]
  },
  {
   "cell_type": "code",
   "execution_count": null,
   "id": "abf43c62",
   "metadata": {},
   "outputs": [],
   "source": []
  }
 ],
 "metadata": {
  "kernelspec": {
   "display_name": "Python 3 (ipykernel)",
   "language": "python",
   "name": "python3"
  },
  "language_info": {
   "codemirror_mode": {
    "name": "ipython",
    "version": 3
   },
   "file_extension": ".py",
   "mimetype": "text/x-python",
   "name": "python",
   "nbconvert_exporter": "python",
   "pygments_lexer": "ipython3",
   "version": "3.9.7"
  }
 },
 "nbformat": 4,
 "nbformat_minor": 5
}
